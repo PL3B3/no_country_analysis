{
 "cells": [
  {
   "cell_type": "code",
   "execution_count": 104,
   "metadata": {},
   "outputs": [],
   "source": [
    "import pandas as pd\n",
    "import numpy as np\n",
    "import spacy\n",
    "nlp = spacy.load(\"en_core_web_sm\")\n",
    "\n",
    "# remove misformatted row due to bad html\n",
    "raw_df = (\n",
    "    pd.read_csv('data/raw/quakenu_raw.csv')\n",
    "        .drop(16803, axis=0)\n",
    ")\n",
    "\n",
    "# Use 3 decimal places in output display\n",
    "pd.set_option(\"display.precision\", 3)\n",
    "\n",
    "# Set max rows displayed in output to 25\n",
    "pd.set_option(\"display.max_rows\", 25)\n",
    "# print(raw_df[:1])\n",
    "# print(raw_df.dtypes)"
   ]
  },
  {
   "cell_type": "code",
   "execution_count": 118,
   "metadata": {},
   "outputs": [
    {
     "name": "stdout",
     "output_type": "stream",
     "text": [
      "author                                                                                                  94\n",
      "date                                                                                     2011-07-01, 19:14\n",
      "forum                                                                                                   22\n",
      "post_id                                                                                              62862\n",
      "post_text    to shub-niggurath, i salute you! (and to the rest of you; don't forget to register for qhlan)\n",
      "thread                                                                                                5272\n",
      "Name: 16801, dtype: object\n"
     ]
    },
    {
     "name": "stderr",
     "output_type": "stream",
     "text": [
      "C:\\Users\\BYRONA~1\\AppData\\Local\\Temp/ipykernel_7628/1494892598.py:7: SettingWithCopyWarning: \n",
      "A value is trying to be set on a copy of a slice from a DataFrame.\n",
      "Try using .loc[row_indexer,col_indexer] = value instead\n",
      "\n",
      "See the caveats in the documentation: https://pandas.pydata.org/pandas-docs/stable/user_guide/indexing.html#returning-a-view-versus-a-copy\n",
      "  clean_df['date'] = pd.to_datetime(clean_df['date'], format='%Y-%m-%d, %H:%M')\n"
     ]
    }
   ],
   "source": [
    "import datetime\n",
    "\n",
    "cleaning_test_df = raw_df[::1000] # every 1000th post\n",
    "\n",
    "def clean_post_df(raw_df):\n",
    "    clean_df = raw_df\n",
    "    clean_df['date'] = pd.to_datetime(clean_df['date'], format='%Y-%m-%d, %H:%M')\n",
    "    return clean_df\n",
    "\n",
    "clean_test_df = clean_post_df(cleaning_test_df)\n",
    "\n",
    "# remove misformatted row due to bad html\n",
    "raw_df = raw_df.drop(16803, axis=0)\n",
    "print(raw_df.iloc[16801])"
   ]
  },
  {
   "cell_type": "code",
   "execution_count": 37,
   "metadata": {},
   "outputs": [
    {
     "name": "stderr",
     "output_type": "stream",
     "text": [
      "C:\\Users\\BYRONA~1\\AppData\\Local\\Temp/ipykernel_7628/2140873254.py:2: FutureWarning: The default value of regex will change from True to False in a future version.\n",
      "  raw_text_col = raw_df['post_text'].str.replace('[^\\w\\']', ' ', flags=re.UNICODE)\n"
     ]
    }
   ],
   "source": [
    "import re\n",
    "raw_text_col = raw_df['post_text'].str.replace('[^\\w\\']', ' ', flags=re.UNICODE)"
   ]
  },
  {
   "cell_type": "code",
   "execution_count": 43,
   "metadata": {},
   "outputs": [
    {
     "name": "stdout",
     "output_type": "stream",
     "text": [
      "author\n",
      "0          4\n",
      "1        733\n",
      "100       22\n",
      "1000       8\n",
      "10000      2\n",
      "        ... \n",
      "9984       2\n",
      "999        2\n",
      "9993       3\n",
      "9995       4\n",
      "9996      10\n",
      "Name: post_text, Length: 2106, dtype: int64\n"
     ]
    }
   ],
   "source": [
    "# print(raw_df.columns)\n",
    "print(raw_df.groupby('author')['post_text'].count())"
   ]
  },
  {
   "cell_type": "code",
   "execution_count": 5,
   "metadata": {},
   "outputs": [
    {
     "name": "stdout",
     "output_type": "stream",
     "text": [
      "       thread post_id  \\\n",
      "4776      119     762   \n",
      "67070    2741   35637   \n",
      "63183      53   36192   \n",
      "76424    6152   95352   \n",
      "14464    1344   22277   \n",
      "\n",
      "                                                                                                                                                          post_text  \n",
      "4776                                                                       hahahhahahhahaha  :lol:     :lol:     :lol:     :lol:     :lol:     :lol:     :lol:       \n",
      "67070  then the question comes up which bugs we should actually fix and which ones to not fix. when you think about it, most of the good stuff in quake are...bugs.  \n",
      "63183                                                                                                                                 omg need that texture set ^_^  \n",
      "76424                      mick, it's not the fact that the stairs are fake that bothers me, more the ramps for speed, as i thought it would make the map too fast   \n",
      "14464                                                                              oh now he says its denmark. typical. make up your mind bigfoot, where you from.   \n"
     ]
    }
   ],
   "source": [
    "\"\"\"\n",
    "Text gathering/cleaning issues\n",
    "    - scraper not catching underlines, italics, etc https://www.quakeworld.nu/forum/topic/28\n",
    "    - bb-code divs https://www.quakeworld.nu/forum/topic/28\n",
    "    - \n",
    "\"\"\"\n",
    "\n",
    "pd.set_option('display.max_colwidth', None)\n",
    "\"\"\"\n",
    "Cleaning a single string for NLP\n",
    "    \n",
    "    - remove nonchars except for apostrophes\n",
    "\n",
    "\"\"\"\n",
    "\n",
    "print(raw_df[['thread', 'post_id', 'post_text']].sample(n=5))\n",
    "# print(raw_text_col.sample(n=5))\n",
    "# print([text for text in raw_text_col.sample(n=15)])"
   ]
  },
  {
   "cell_type": "code",
   "execution_count": 28,
   "metadata": {},
   "outputs": [
    {
     "name": "stdout",
     "output_type": "stream",
     "text": [
      "Si senor, ?que necesita?\n",
      "I have question . joe many liberal do it take to change a log by bolb ? none . their too bussy . they be gender ?\n"
     ]
    }
   ],
   "source": [
    "import unidecode\n",
    "\n",
    "test_accent_str = \"Sí señor, ¿qué necesita?\"\n",
    "\n",
    "print(unidecode.unidecode(test_accent_str))\n",
    "\n",
    "test_lemma_str = \"I have question. joe many liberals does it take to change a log by bolb? none. their too bussy. they're gender?\"\n",
    "\n",
    "test_lemma_doc = nlp(test_lemma_str)\n",
    "\n",
    "# for token in test_lemma_doc:\n",
    "#     print(token.is_sent_start) \n",
    "\n",
    "print(' '.join([token.lemma_ for token in test_lemma_doc]))\n",
    "# print(test_lemma_doc.cats)"
   ]
  }
 ],
 "metadata": {
  "interpreter": {
   "hash": "75f4a77460bc6a4b29b28071ea1801e9a6c8562880a5c01318289c3ebdc5420b"
  },
  "kernelspec": {
   "display_name": "Python 3.9.7 64-bit ('scraping': conda)",
   "language": "python",
   "name": "python3"
  },
  "language_info": {
   "codemirror_mode": {
    "name": "ipython",
    "version": 3
   },
   "file_extension": ".py",
   "mimetype": "text/x-python",
   "name": "python",
   "nbconvert_exporter": "python",
   "pygments_lexer": "ipython3",
   "version": "3.9.7"
  },
  "orig_nbformat": 4
 },
 "nbformat": 4,
 "nbformat_minor": 2
}
