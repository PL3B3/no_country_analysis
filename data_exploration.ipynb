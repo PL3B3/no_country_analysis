{
 "cells": [
  {
   "cell_type": "code",
   "execution_count": 1,
   "metadata": {},
   "outputs": [],
   "source": [
    "import pandas as pd\n",
    "import numpy as np\n",
    "import spacy\n",
    "nlp = spacy.load(\"en_core_web_sm\")\n",
    "\n",
    "# remove misformatted row due to bad html\n",
    "raw_df = (\n",
    "    pd.read_csv('data/raw/quakenu_raw.csv')\n",
    "        .drop(16803, axis=0)\n",
    ")\n",
    "\n",
    "# Use 3 decimal places in output display\n",
    "pd.set_option(\"display.precision\", 3)\n",
    "\n",
    "# Set max rows displayed in output to 25\n",
    "pd.set_option(\"display.max_rows\", 25)\n",
    "# print(raw_df[:1])\n",
    "# print(raw_df.dtypes)"
   ]
  },
  {
   "cell_type": "code",
   "execution_count": 2,
   "metadata": {},
   "outputs": [
    {
     "name": "stderr",
     "output_type": "stream",
     "text": [
      "C:\\Users\\BYRONA~1\\AppData\\Local\\Temp/ipykernel_6756/1649249616.py:7: SettingWithCopyWarning: \n",
      "A value is trying to be set on a copy of a slice from a DataFrame.\n",
      "Try using .loc[row_indexer,col_indexer] = value instead\n",
      "\n",
      "See the caveats in the documentation: https://pandas.pydata.org/pandas-docs/stable/user_guide/indexing.html#returning-a-view-versus-a-copy\n",
      "  clean_df['date'] = pd.to_datetime(clean_df['date'], format='%Y-%m-%d, %H:%M')\n"
     ]
    }
   ],
   "source": [
    "import datetime\n",
    "\n",
    "cleaning_test_df = raw_df[::1000] # every 1000th post\n",
    "\n",
    "def clean_post_df(raw_df):\n",
    "    clean_df = raw_df\n",
    "    clean_df['date'] = pd.to_datetime(clean_df['date'], format='%Y-%m-%d, %H:%M')\n",
    "    return clean_df\n",
    "\n",
    "clean_test_df = clean_post_df(cleaning_test_df)\n",
    "clean_df = clean_post_df(raw_df)"
   ]
  },
  {
   "cell_type": "code",
   "execution_count": 3,
   "metadata": {},
   "outputs": [
    {
     "name": "stderr",
     "output_type": "stream",
     "text": [
      "C:\\Users\\BYRONA~1\\AppData\\Local\\Temp/ipykernel_6756/2140873254.py:2: FutureWarning: The default value of regex will change from True to False in a future version.\n",
      "  raw_text_col = raw_df['post_text'].str.replace('[^\\w\\']', ' ', flags=re.UNICODE)\n"
     ]
    }
   ],
   "source": [
    "import re\n",
    "raw_text_col = raw_df['post_text'].str.replace('[^\\w\\']', ' ', flags=re.UNICODE)"
   ]
  },
  {
   "cell_type": "code",
   "execution_count": 85,
   "metadata": {},
   "outputs": [],
   "source": [
    "# print(raw_df.columns)\n",
    "OLD_MEMBER_CUTOFF = 50\n",
    "\n",
    "forum_first_post_dt = raw_df['date'].min()\n",
    "forum_time_range = raw_df['date'].max() - forum_first_post_dt\n",
    "# print(forum_time_range)\n",
    "\n",
    "author_groups = raw_df.groupby('author')\n",
    "last_post_dt = author_groups['date'].max()\n",
    "first_post_dt = author_groups['date'].min()\n",
    "post_time_range = last_post_dt - first_post_dt\n",
    "last_post_era = (last_post_dt - forum_first_post_dt) / forum_time_range\n",
    "\n",
    "# print(last_post_era)\n",
    "\n",
    "post_frequency_seconds = post_time_range.dt.total_seconds() / author_groups['date'].count()\n",
    "is_old_member = author_groups['date'].count() > OLD_MEMBER_CUTOFF\n",
    "\n",
    "median_post_length_chars = raw_df['post_text'].str.len().dropna().groupby(raw_df['author']).median()\n",
    "# mean_post_length_chars = raw_df['post_text'].str.len().dropna().groupby(raw_df['author']).mean()\n",
    "\n",
    "# print(sum(is_old_member))\n",
    "# print(raw_df[raw_df['post_text'].isna()])"
   ]
  },
  {
   "cell_type": "code",
   "execution_count": 89,
   "metadata": {},
   "outputs": [],
   "source": [
    "import sklearn as sk\n",
    "from sklearn.model_selection import train_test_split\n",
    "from sklearn.preprocessing import StandardScaler\n",
    "from sklearn.linear_model import LogisticRegression\n",
    "from sklearn.pipeline import Pipeline\n",
    "from sklearn.metrics import f1_score, roc_curve, roc_auc_score, classification_report, accuracy_score, confusion_matrix \n",
    "\n",
    "# X = pd.concat([post_frequency_seconds, last_post_era], axis=1, keys=['post_freq', 'post_era'])\n",
    "X = pd.concat([post_frequency_seconds, last_post_era, median_post_length_chars], axis=1, keys=['post_freq', 'post_era', 'post_len'])\n",
    "X['post_len'].fillna(X['post_len'].median(), inplace=True)\n",
    "y = is_old_member\n",
    "\n",
    "np.random.seed(3342)\n",
    "X_train, X_test, y_train, y_test = train_test_split(X, y)\n",
    "\n",
    "scaler = StandardScaler()\n",
    "classifier = LogisticRegression()\n",
    "\n",
    "old_member_pipeline = Pipeline([\n",
    "    ('scaler', scaler),\n",
    "    ('classifier', classifier)\n",
    "])"
   ]
  },
  {
   "cell_type": "code",
   "execution_count": 90,
   "metadata": {},
   "outputs": [
    {
     "data": {
      "text/plain": [
       "Pipeline(steps=[('scaler', StandardScaler()),\n",
       "                ('classifier', LogisticRegression())])"
      ]
     },
     "execution_count": 90,
     "metadata": {},
     "output_type": "execute_result"
    }
   ],
   "source": [
    "old_member_pipeline.fit(X_train, y_train)"
   ]
  },
  {
   "cell_type": "code",
   "execution_count": 91,
   "metadata": {},
   "outputs": [
    {
     "name": "stdout",
     "output_type": "stream",
     "text": [
      "              precision    recall  f1-score   support\n",
      "\n",
      "       False       0.90      0.99      0.94       470\n",
      "        True       0.42      0.09      0.14        57\n",
      "\n",
      "    accuracy                           0.89       527\n",
      "   macro avg       0.66      0.54      0.54       527\n",
      "weighted avg       0.85      0.89      0.85       527\n",
      "\n",
      "              precision    recall  f1-score   support\n",
      "\n",
      "       False     0.8922    0.9833    0.9355      1380\n",
      "        True     0.5965    0.1717    0.2667       198\n",
      "\n",
      "    accuracy                         0.8815      1578\n",
      "   macro avg     0.7443    0.5775    0.6011      1578\n",
      "weighted avg     0.8551    0.8815    0.8516      1578\n",
      "\n"
     ]
    }
   ],
   "source": [
    "y_hat_test = old_member_pipeline.predict(X_test)\n",
    "\n",
    "print(classification_report(y_test, y_hat_test))\n",
    "\n",
    "y_hat_train = old_member_pipeline.predict(X_train)\n",
    "\n",
    "print(classification_report(y_train, y_hat_train, digits=4))"
   ]
  },
  {
   "cell_type": "code",
   "execution_count": 40,
   "metadata": {},
   "outputs": [
    {
     "name": "stdout",
     "output_type": "stream",
     "text": [
      "author\n",
      "3       270.997\n",
      "122     106.881\n",
      "6       154.400\n",
      "1       305.435\n",
      "47      184.000\n",
      "         ...   \n",
      "2519    347.333\n",
      "3415    157.000\n",
      "3533    414.000\n",
      "3395     67.000\n",
      "2533    835.500\n",
      "Name: post_text, Length: 2105, dtype: float64\n"
     ]
    }
   ],
   "source": [
    "print(raw_df['post_text'].str.len().groupby(raw_df['author'], sort=False).mean())"
   ]
  },
  {
   "cell_type": "code",
   "execution_count": 6,
   "metadata": {},
   "outputs": [
    {
     "name": "stdout",
     "output_type": "stream",
     "text": [
      "       thread post_id  \\\n",
      "11289    2686   35508   \n",
      "12773    1044   13619   \n",
      "38627    4840   58876   \n",
      "26371    2159   26602   \n",
      "40673    4509   54829   \n",
      "\n",
      "                                                                                                                                                         post_text  \n",
      "11289                                                                                                                                                       fixed   \n",
      "12773                                                                                                    still looking for clan? contact us at: contact@clansq.org  \n",
      "38627  hehe, so it seems like everything boils down to peoples lack of knowledge and understanding. (which was my point when i quoted hooraytion some posts above)  \n",
      "26371                                                                                       yeah something wrong with the pl's hopefully we can solve that in time  \n",
      "40673                                                                                                                    quake 2 in html is a total waste of time.  \n"
     ]
    }
   ],
   "source": [
    "\"\"\"\n",
    "Text gathering/cleaning issues\n",
    "    - scraper not catching underlines, italics, etc https://www.quakeworld.nu/forum/topic/28\n",
    "    - bb-code divs https://www.quakeworld.nu/forum/topic/28\n",
    "    - \n",
    "\"\"\"\n",
    "\n",
    "pd.set_option('display.max_colwidth', None)\n",
    "\"\"\"\n",
    "Cleaning a single string for NLP\n",
    "    \n",
    "    - remove nonchars except for apostrophes\n",
    "\n",
    "\"\"\"\n",
    "\n",
    "print(raw_df[['thread', 'post_id', 'post_text']].sample(n=5))\n",
    "# print(raw_text_col.sample(n=5))\n",
    "# print([text for text in raw_text_col.sample(n=15)])"
   ]
  },
  {
   "cell_type": "code",
   "execution_count": 7,
   "metadata": {},
   "outputs": [
    {
     "name": "stdout",
     "output_type": "stream",
     "text": [
      "Si senor, ?que necesita?\n",
      "I have question . joe many liberal do it take to change a log by bolb ? none . their too bussy . they be gender ?\n"
     ]
    }
   ],
   "source": [
    "import unidecode\n",
    "\n",
    "test_accent_str = \"Sí señor, ¿qué necesita?\"\n",
    "\n",
    "print(unidecode.unidecode(test_accent_str))\n",
    "\n",
    "test_lemma_str = \"I have question. joe many liberals does it take to change a log by bolb? none. their too bussy. they're gender?\"\n",
    "\n",
    "test_lemma_doc = nlp(test_lemma_str)\n",
    "\n",
    "# for token in test_lemma_doc:\n",
    "#     print(token.is_sent_start) \n",
    "\n",
    "print(' '.join([token.lemma_ for token in test_lemma_doc]))\n",
    "# print(test_lemma_doc.cats)"
   ]
  }
 ],
 "metadata": {
  "interpreter": {
   "hash": "75f4a77460bc6a4b29b28071ea1801e9a6c8562880a5c01318289c3ebdc5420b"
  },
  "kernelspec": {
   "display_name": "Python 3.9.7 64-bit ('scraping': conda)",
   "language": "python",
   "name": "python3"
  },
  "language_info": {
   "codemirror_mode": {
    "name": "ipython",
    "version": 3
   },
   "file_extension": ".py",
   "mimetype": "text/x-python",
   "name": "python",
   "nbconvert_exporter": "python",
   "pygments_lexer": "ipython3",
   "version": "3.9.7"
  },
  "orig_nbformat": 4
 },
 "nbformat": 4,
 "nbformat_minor": 2
}
