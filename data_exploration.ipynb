{
 "cells": [
  {
   "cell_type": "code",
   "execution_count": 11,
   "metadata": {},
   "outputs": [],
   "source": [
    "import pandas as pd\n",
    "import numpy as np\n",
    "\n",
    "raw_df = pd.read_csv('data/raw/quakenu_raw.csv')\n",
    "\n",
    "# print(raw_df[:1])\n",
    "# print(raw_df.dtypes)"
   ]
  },
  {
   "cell_type": "code",
   "execution_count": 30,
   "metadata": {},
   "outputs": [
    {
     "name": "stdout",
     "output_type": "stream",
     "text": [
      "how do i get 500hz in winxp sp1??\n"
     ]
    },
    {
     "name": "stderr",
     "output_type": "stream",
     "text": [
      "C:\\Users\\BYRONA~1\\AppData\\Local\\Temp/ipykernel_15728/2991618677.py:7: SettingWithCopyWarning: \n",
      "A value is trying to be set on a copy of a slice from a DataFrame.\n",
      "Try using .loc[row_indexer,col_indexer] = value instead\n",
      "\n",
      "See the caveats in the documentation: https://pandas.pydata.org/pandas-docs/stable/user_guide/indexing.html#returning-a-view-versus-a-copy\n",
      "  clean_df['date'] = pd.to_datetime(clean_df['date'], format='%Y-%m-%d, %H:%M')\n"
     ]
    }
   ],
   "source": [
    "import datetime\n",
    "\n",
    "cleaning_test_df = raw_df[::1000] # every 1000th post\n",
    "\n",
    "def clean_post_df(raw_df):\n",
    "    clean_df = raw_df\n",
    "    clean_df['date'] = pd.to_datetime(clean_df['date'], format='%Y-%m-%d, %H:%M')\n",
    "    return clean_df\n",
    "\n",
    "clean_test_df = clean_post_df(cleaning_test_df)\n",
    "\n",
    "print(clean_test_df['post_text'][0])"
   ]
  },
  {
   "cell_type": "code",
   "execution_count": 47,
   "metadata": {},
   "outputs": [
    {
     "name": "stdout",
     "output_type": "stream",
     "text": [
      "author                                                       3\n",
      "date                                         2006-01-14, 14:01\n",
      "forum                                                       10\n",
      "post_id                                                     52\n",
      "post_text    i will fix it up in parts so u understand ever...\n",
      "thread                                                      28\n",
      "Name: 32, dtype: object\n",
      "i will fix it up in parts so u understand everything!! when u start the config it automatically plays a mp3 song and put   on the  . dont forget to put ur correct winamp dir f8 = tells u the song u play in winamp with   and   u toggle shuffle/repeat with   and   u rewind/forward the song with   and   u play previuse/next song ///// sassa mp3_volume \"0.26\" mp3_play volume \"0\" mp3_winamp_dir \"c&#58;programwinamp\" bind  f1            \"at;echo autotrack\" bind  f2            \"ls;echo lastscores\" bind  f3            \"sc;echo +scores\" bind  f4            \"exec mvd.txt\" bind  f5            \"spectator 1;echo spec1\" bind  f7            \"+attack\" bind  f8            \"say &#123;$mp3info&#125;\" //tells u the song u play in winamp bind  mwheelup \"vol_maxcheck\" //// higher volume bind  mwheeldown  \"vol_mincheck\" //// lower volume bind shift \"mp3_play; echo mp3 play\" bind backspace \"mute\" bind 2 \"mp3_repeat toggle\" bind 3 \"mp3_shuffle toggle\" bind q mp3_rewind bind e mp3_fforward bind x \"mp3_prev; echo $mp3info\" bind c \"mp3_next; echo $mp3info\" i ripped this from defs-quake ///defbinds bind  ins           \"yes;echo votedyes\" bind  del           \"list;echo list\" bind  pgdn          \"notready;echo break\" bind  pgup          \"ready;echo ready\" bind  home          \"elect;echo elect\" bind  end           \"whonot;echo whonot\" put your own playlist in here and run them with the keypad buttons!! ///playlistarna bind\tkp_1\t\"mp3_stop; playlist1; mp3_play; echo rocktown\" bind\tkp_2\t\"mp3_stop; playlist2; mp3_play; echo pop-ish\" bind\tkp_3\t\"mp3_stop; playlist3; mp3_play; echo soft soft\" bind\tkp_4\t\"mp3_stop; playlist4; mp3_play; echo soul baby\" bind\tkp_5\t\"mp3_stop; playlist5; mp3_play; echo hiphop\" bind\tkp_6\t\"mp3_stop; playlist6; mp3_play; echo oprahhh\" bind\tkp_7\t\"mp3_stop; playlist7; mp3_play; echo mariahh carey\" alias\tplaylist1\t\"mp3_loadplaylist d&#58;tempmp3playlistqwrock.m3u\" alias\tplaylist2\t\"mp3_loadplaylist d&#58;tempmp3playlistqwpop.m3u\" alias\tplaylist3\t\"mp3_loadplaylist d&#58;tempmp3playlistqwsoft.m3u\" alias\tplaylist4\t\"mp3_loadplaylist d&#58;tempmp3playlistqwsoul.m3u\" alias\tplaylist5\t\"mp3_loadplaylist d&#58;tempmp3playlistqwrap.m3u\" alias\tplaylist6\t\"mp3_loadplaylist d&#58;tempmp3playlistqwoprah.m3u\" alias\tplaylist7\t\"mp3_loadplaylist d&#58;tempmp3playlistqwmaria.m3u\" alias\tplaylist8\t\"mp3_loadplaylist d&#58;tempmp3playlistqwradio.m3u\" alias\tplaylist9\t\"mp3_loadplaylist d&#58;tempmp3playlistqwall.m3u\" alias crap!!!  ///mp3_volume alias alias mute \"set oldvolume $mp3_volume;mp3_volume 0;echo ã�ãµã´ã¥;bind backspace unmute\" alias unmute \"mp3_volume $oldvolume;echo ã–ã¯ã¬ãµã­ã¥ ã®ã¯ã· $mp3_volume;bind backspace mute\" set vol_variable .03 alias vol_var_down \"set vol_variable .01;bind  vol_var_up;echo ã–ã¡ã²ã©ã¡ã¢ã¬ã¥ ã®ã¯ã· $vol_variable\" alias vol_var_up \"set vol_variable .05;bind  vol_var_down;echo ã–ã¡ã²ã©ã¡ã¢ã¬ã¥ ã®ã¯ã· $vol_variable\" alias vol_maxcheck \"if $mp3_volume = 1 then echo ã–ã¯ã¬ãµã­ã¥ @ ã­ã¡ã¸ã©ã­ãµã­ else vol_up\" alias vol_mincheck \"if $mp3_volume = 0 then echo ã–ã¯ã¬ãµã­ã¥ @ ã­ã©ã®ã©ã­ãµã­ else vol_down\" alias vol_up \"if $mp3_volume < 1 inc mp3_volume $vol_variable;echo ã–ã¯ã¬ãµã­ã¥ ã®ã¯ã· $mp3_volume\" alias vol_down \"if $mp3_volume > 0 inc mp3_volume -$vol_variable;if $mp3_volume < 0 mp3_volume 0;echo ã–ã¯ã¬ãµã­ã¥ ã®ã¯ã· $mp3_volume\"  echo . echo . echo . echo . echo ---------------------- echo time for some specish echo ---------------------- put everything in a mp3.txt and run it....   btw play with it on dmm4 games aswell \n",
      "i will fix it up in parts so u understand everything   when u start the config it automatically plays a mp  song and put   on the    dont forget to put ur correct winamp dir f    tells u the song u play in winamp with   and   u toggle shuffle repeat with   and   u rewind forward the song with   and   u play previuse next song       sassa mp  volume        mp  play volume     mp  winamp dir  c     programwinamp  bind  f              at echo autotrack  bind  f              ls echo lastscores  bind  f              sc echo  scores  bind  f              exec mvd txt  bind  f              spectator   echo spec   bind  f               attack  bind  f              say        mp info          tells u the song u play in winamp bind  mwheelup  vol maxcheck       higher volume bind  mwheeldown   vol mincheck       lower volume bind shift  mp  play  echo mp  play  bind backspace  mute  bind    mp  repeat toggle  bind    mp  shuffle toggle  bind q mp  rewind bind e mp  fforward bind x  mp  prev  echo  mp info  bind c  mp  next  echo  mp info  i ripped this from defs quake    defbinds bind  ins            yes echo votedyes  bind  del            list echo list  bind  pgdn           notready echo break  bind  pgup           ready echo ready  bind  home           elect echo elect  bind  end            whonot echo whonot  put your own playlist in here and run them with the keypad buttons      playlistarna bind kp    mp  stop  playlist   mp  play  echo rocktown  bind kp    mp  stop  playlist   mp  play  echo pop ish  bind kp    mp  stop  playlist   mp  play  echo soft soft  bind kp    mp  stop  playlist   mp  play  echo soul baby  bind kp    mp  stop  playlist   mp  play  echo hiphop  bind kp    mp  stop  playlist   mp  play  echo oprahhh  bind kp    mp  stop  playlist   mp  play  echo mariahh carey  alias playlist   mp  loadplaylist d     tempmp playlistqwrock m u  alias playlist   mp  loadplaylist d     tempmp playlistqwpop m u  alias playlist   mp  loadplaylist d     tempmp playlistqwsoft m u  alias playlist   mp  loadplaylist d     tempmp playlistqwsoul m u  alias playlist   mp  loadplaylist d     tempmp playlistqwrap m u  alias playlist   mp  loadplaylist d     tempmp playlistqwoprah m u  alias playlist   mp  loadplaylist d     tempmp playlistqwmaria m u  alias playlist   mp  loadplaylist d     tempmp playlistqwradio m u  alias playlist   mp  loadplaylist d     tempmp playlistqwall m u  alias crap        mp  volume alias alias mute  set oldvolume  mp  volume mp  volume   echo          bind backspace unmute  alias unmute  mp  volume  oldvolume echo                      mp  volume bind backspace mute  set vol variable     alias vol var down  set vol variable     bind  vol var up echo                          vol variable  alias vol var up  set vol variable     bind  vol var down echo                          vol variable  alias vol maxcheck  if  mp  volume     then echo                               else vol up  alias vol mincheck  if  mp  volume     then echo                               else vol down  alias vol up  if  mp  volume     inc mp  volume  vol variable echo                      mp  volume  alias vol down  if  mp  volume     inc mp  volume   vol variable if  mp  volume     mp  volume   echo                      mp  volume   echo   echo   echo   echo   echo                        echo time for some specish echo                        put everything in a mp  txt and run it       btw play with it on dmm  games aswell \n"
     ]
    }
   ],
   "source": [
    "import re\n",
    "\n",
    "\"\"\"\n",
    "Cleaning a single string for NLP\n",
    "    remove nonchars except for apostrophes\n",
    "\n",
    "\"\"\"\n",
    "\n",
    "raw_text_col = raw_df['post_text']\n",
    "\n",
    "print(raw_df.iloc[32])\n",
    "\n",
    "for test_text in raw_text_col[32:33]:\n",
    "    print(test_text)\n",
    "    print(re.sub(r'[^a-z\\']',' ',test_text))"
   ]
  }
 ],
 "metadata": {
  "interpreter": {
   "hash": "75f4a77460bc6a4b29b28071ea1801e9a6c8562880a5c01318289c3ebdc5420b"
  },
  "kernelspec": {
   "display_name": "Python 3.9.7 64-bit ('scraping': conda)",
   "language": "python",
   "name": "python3"
  },
  "language_info": {
   "codemirror_mode": {
    "name": "ipython",
    "version": 3
   },
   "file_extension": ".py",
   "mimetype": "text/x-python",
   "name": "python",
   "nbconvert_exporter": "python",
   "pygments_lexer": "ipython3",
   "version": "3.9.7"
  },
  "orig_nbformat": 4
 },
 "nbformat": 4,
 "nbformat_minor": 2
}
